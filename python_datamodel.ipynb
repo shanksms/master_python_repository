{
  "nbformat": 4,
  "nbformat_minor": 0,
  "metadata": {
    "colab": {
      "provenance": [],
      "collapsed_sections": [],
      "authorship_tag": "ABX9TyMEHVJ1sZMMLKG6gY6R034o",
      "include_colab_link": true
    },
    "kernelspec": {
      "name": "python3",
      "display_name": "Python 3"
    },
    "language_info": {
      "name": "python"
    }
  },
  "cells": [
    {
      "cell_type": "markdown",
      "metadata": {
        "id": "view-in-github",
        "colab_type": "text"
      },
      "source": [
        "<a href=\"https://colab.research.google.com/github/shanksms/master_python_repository/blob/main/python_datamodel.ipynb\" target=\"_parent\"><img src=\"https://colab.research.google.com/assets/colab-badge.svg\" alt=\"Open In Colab\"/></a>"
      ]
    },
    {
      "cell_type": "markdown",
      "source": [
        "# A pythonic Card Deck"
      ],
      "metadata": {
        "id": "G5ClZtKo6eNp"
      }
    },
    {
      "cell_type": "markdown",
      "source": [
        "# Following code snippets are from Fluent Python book"
      ],
      "metadata": {
        "id": "HRnq7bVrIEU5"
      }
    },
    {
      "cell_type": "code",
      "source": [
        "import collections\n",
        "Card = collections.namedtuple('Card', ['rank', 'suit'])\n",
        "class FrenchDeck:\n",
        "  ranks = [str(n) for n in range(2, 11)] + list('JQKA')\n",
        "  suits = ['spades', 'diamond', 'heart', 'clubs']\n",
        "  def __init__(self):\n",
        "    # Following executes first for suits and for each suit it gets all the ranks.\n",
        "    '''\n",
        "    it is equivalent to:\n",
        "    for suit in suits:\n",
        "      for rank in ranks:\n",
        "          print(suit, rank)\n",
        "    '''\n",
        "    self.cards = [Card(rank, suit) for suit in self.suits for rank in self.ranks]\n",
        "  \n",
        "  def __len__(self):\n",
        "    return len(self.cards)\n",
        "  \n",
        "  def __getitem__(self, position):\n",
        "    return self.cards[position]\n",
        "\n",
        "\n"
      ],
      "metadata": {
        "id": "QAZrwtTm6iwQ"
      },
      "execution_count": 4,
      "outputs": []
    },
    {
      "cell_type": "markdown",
      "source": [
        "**Lets see len and getitem dunder methods in action.**"
      ],
      "metadata": {
        "id": "2_R0z19KE-wQ"
      }
    },
    {
      "cell_type": "code",
      "source": [
        "deck = FrenchDeck()\n",
        "print('len: ', len(deck))\n",
        "print('get Rank 2: ', deck[1])"
      ],
      "metadata": {
        "colab": {
          "base_uri": "https://localhost:8080/"
        },
        "id": "0ilE1EwcFDrA",
        "outputId": "e690567b-a7d0-48a3-888c-e1fcd771a2e3"
      },
      "execution_count": 5,
      "outputs": [
        {
          "output_type": "stream",
          "name": "stdout",
          "text": [
            "len:  52\n",
            "get Rank 2:  Card(rank='3', suit='spades')\n"
          ]
        }
      ]
    },
    {
      "cell_type": "markdown",
      "source": [
        "**Lets pick random cards**"
      ],
      "metadata": {
        "id": "uKBLXmtSF2Py"
      }
    },
    {
      "cell_type": "code",
      "source": [
        "from random import choice\n",
        "print(choice(deck))\n",
        "print(choice(deck))\n",
        "print(choice(deck))\n",
        "print(choice(deck))"
      ],
      "metadata": {
        "colab": {
          "base_uri": "https://localhost:8080/"
        },
        "id": "Zh0_mOYnF5s4",
        "outputId": "4c9291cb-da01-4782-fed7-c2caba4e1c8d"
      },
      "execution_count": 6,
      "outputs": [
        {
          "output_type": "stream",
          "name": "stdout",
          "text": [
            "Card(rank='5', suit='clubs')\n",
            "Card(rank='4', suit='heart')\n",
            "Card(rank='2', suit='clubs')\n",
            "Card(rank='3', suit='diamond')\n"
          ]
        }
      ]
    },
    {
      "cell_type": "markdown",
      "source": [
        "**`Since getitem  delegates to [] of self.cards, our deck class automatically supports slicing and iteration in for loop.`**\n",
        "\n",
        "in the for loop, it invokes iter(x), which in turn may call x.__iter__() if it is available or invoke x.__getitem__() as in the French Deck example"
      ],
      "metadata": {
        "id": "yJB8C8dLH0Kp"
      }
    },
    {
      "cell_type": "code",
      "source": [
        "print(deck[:3])\n",
        "#for card in deck:\n",
        "#  print(card)"
      ],
      "metadata": {
        "colab": {
          "base_uri": "https://localhost:8080/"
        },
        "id": "zRA1uxHCIMTy",
        "outputId": "12f87234-f48b-40a3-9d59-c6ac7e2a23fc"
      },
      "execution_count": 7,
      "outputs": [
        {
          "output_type": "stream",
          "name": "stdout",
          "text": [
            "[Card(rank='2', suit='spades'), Card(rank='3', suit='spades'), Card(rank='4', suit='spades')]\n"
          ]
        }
      ]
    },
    {
      "cell_type": "markdown",
      "source": [
        "# Emulating numeric types\n",
        "Several special methods allow user objects to respond to operators such as +.  \n",
        "Let's implement Vector class:"
      ],
      "metadata": {
        "id": "7I2WsjbbuXBr"
      }
    },
    {
      "cell_type": "code",
      "source": [
        "import math\n",
        "\n",
        "class Vector:\n",
        "\n",
        "  def __init__(self, x, y):\n",
        "    self.x = x\n",
        "    self.y = y\n",
        "\n",
        "  def __repr__(self):\n",
        "    return f'Vector({self.x}, {self.y})'\n",
        "    # return f'Vector(self.x!r, self.y!r)'\n",
        "  \n",
        "  def __abs__(self):\n",
        "    return math.hypot(self.x, self.y)\n",
        "  \n",
        "  def __bool__(self):\n",
        "    return bool(abs(self))\n",
        "  \n",
        "  def __add__(self, other):\n",
        "    x = self.x + other.x\n",
        "    y = self.y + other.y\n",
        "    return Vector(x, y)\n",
        "  \n",
        "  def __mul__(self, scalar):\n",
        "    x = self.x * scalar\n",
        "    y = self.y * scalar\n",
        "    return Vector(x, y)\n",
        "  \n",
        "\n"
      ],
      "metadata": {
        "id": "T07wIK_Ruued"
      },
      "execution_count": 11,
      "outputs": []
    },
    {
      "cell_type": "code",
      "source": [
        "vec = Vector(1, 2)\n",
        "vec"
      ],
      "metadata": {
        "colab": {
          "base_uri": "https://localhost:8080/"
        },
        "id": "AqL9_i4QzPkN",
        "outputId": "8c157767-e9f2-459e-9829-bb247a1573ba"
      },
      "execution_count": 10,
      "outputs": [
        {
          "output_type": "execute_result",
          "data": {
            "text/plain": [
              "Vector(1, 2)"
            ]
          },
          "metadata": {},
          "execution_count": 10
        }
      ]
    },
    {
      "cell_type": "markdown",
      "source": [
        "**The use of __repr__is to a hint to developers how to create the object. As depicted above, on console interpreter calls, __repr__.\n",
        "In contrast, __str__ is used by print() to provide string representation of the object.**"
      ],
      "metadata": {
        "id": "_QycOYuM0YsE"
      }
    }
  ]
}