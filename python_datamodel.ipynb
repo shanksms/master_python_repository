{
  "nbformat": 4,
  "nbformat_minor": 0,
  "metadata": {
    "colab": {
      "provenance": [],
      "collapsed_sections": [],
      "authorship_tag": "ABX9TyN0tmm4TyITJFs19uBY5Uod",
      "include_colab_link": true
    },
    "kernelspec": {
      "name": "python3",
      "display_name": "Python 3"
    },
    "language_info": {
      "name": "python"
    }
  },
  "cells": [
    {
      "cell_type": "markdown",
      "metadata": {
        "id": "view-in-github",
        "colab_type": "text"
      },
      "source": [
        "<a href=\"https://colab.research.google.com/github/shanksms/master_python_repository/blob/main/python_datamodel.ipynb\" target=\"_parent\"><img src=\"https://colab.research.google.com/assets/colab-badge.svg\" alt=\"Open In Colab\"/></a>"
      ]
    },
    {
      "cell_type": "markdown",
      "source": [
        "# A pythonic Card Deck"
      ],
      "metadata": {
        "id": "G5ClZtKo6eNp"
      }
    },
    {
      "cell_type": "code",
      "source": [
        "import collections\n",
        "Card = collections.namedtuple('Card', ['rank', 'suit'])\n",
        "class FrenchDeck:\n",
        "  ranks = [str(n) for n in range(2, 11)] + list('JQKA')\n",
        "  suits = ['spades', 'diamond', 'heart', 'clubs']\n",
        "  def __init__(self):\n",
        "    # Following executes first for suits and for each suit it gets all the ranks.\n",
        "    '''\n",
        "    it is equivalent to:\n",
        "    for suit in suits:\n",
        "      for rank in ranks:\n",
        "          print(suit, rank)\n",
        "    '''\n",
        "    self.cards = [Card(rank, suit) for suit in self.suits for rank in self.ranks]\n",
        "  \n",
        "  def __len__(self):\n",
        "    return len(self.cards)\n",
        "  \n",
        "  def __getitem__(self, position):\n",
        "    return self.cards[position]\n",
        "\n",
        "\n"
      ],
      "metadata": {
        "id": "QAZrwtTm6iwQ"
      },
      "execution_count": 3,
      "outputs": []
    },
    {
      "cell_type": "markdown",
      "source": [
        "**Lets see len and getitem dunder methods in action.**"
      ],
      "metadata": {
        "id": "2_R0z19KE-wQ"
      }
    },
    {
      "cell_type": "code",
      "source": [
        "deck = FrenchDeck()\n",
        "print('len: ', len(deck))\n",
        "print('get Rank 2: ', deck[1])"
      ],
      "metadata": {
        "colab": {
          "base_uri": "https://localhost:8080/"
        },
        "id": "0ilE1EwcFDrA",
        "outputId": "f0538a50-ab16-46e0-a7d4-4f95baced112"
      },
      "execution_count": 4,
      "outputs": [
        {
          "output_type": "stream",
          "name": "stdout",
          "text": [
            "len:  52\n",
            "get Rank 2:  Card(rank='3', suit='spades')\n"
          ]
        }
      ]
    },
    {
      "cell_type": "markdown",
      "source": [
        "**Lets pick random cards**"
      ],
      "metadata": {
        "id": "uKBLXmtSF2Py"
      }
    },
    {
      "cell_type": "code",
      "source": [
        "from random import choice\n",
        "print(choice(deck))\n",
        "print(choice(deck))\n",
        "print(choice(deck))\n",
        "print(choice(deck))"
      ],
      "metadata": {
        "colab": {
          "base_uri": "https://localhost:8080/"
        },
        "id": "Zh0_mOYnF5s4",
        "outputId": "3b6b8a5e-b3aa-49bf-996d-130feec47411"
      },
      "execution_count": 7,
      "outputs": [
        {
          "output_type": "stream",
          "name": "stdout",
          "text": [
            "Card(rank='8', suit='spades')\n",
            "Card(rank='K', suit='spades')\n",
            "Card(rank='Q', suit='diamond')\n",
            "Card(rank='8', suit='heart')\n"
          ]
        }
      ]
    }
  ]
}